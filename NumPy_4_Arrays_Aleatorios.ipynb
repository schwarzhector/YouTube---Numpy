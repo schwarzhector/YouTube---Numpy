{
  "cells": [
    {
      "cell_type": "markdown",
      "source": [
        "### Código utilizado en el video:\n",
        "https://youtu.be/1XGbbuodJUs"
      ],
      "metadata": {
        "id": "wZKZn225Hj5N"
      },
      "id": "wZKZn225Hj5N"
    },
    {
      "cell_type": "code",
      "execution_count": null,
      "id": "28872c30",
      "metadata": {
        "id": "28872c30"
      },
      "outputs": [],
      "source": [
        "import numpy as np"
      ]
    },
    {
      "cell_type": "markdown",
      "id": "c1a824aa",
      "metadata": {
        "id": "c1a824aa"
      },
      "source": [
        "# random.random()"
      ]
    },
    {
      "cell_type": "code",
      "execution_count": null,
      "id": "bb4edce1",
      "metadata": {
        "id": "bb4edce1",
        "outputId": "f54811ff-f395-46e2-e102-d9903770ff43"
      },
      "outputs": [
        {
          "name": "stdout",
          "output_type": "stream",
          "text": [
            "0.9580919555802048\n"
          ]
        }
      ],
      "source": [
        "valor_1 = np.random.random()\n",
        "print(valor_1)"
      ]
    },
    {
      "cell_type": "code",
      "execution_count": null,
      "id": "5afd3ba6",
      "metadata": {
        "id": "5afd3ba6",
        "outputId": "63bb171b-302f-42fe-84d7-74182845e944"
      },
      "outputs": [
        {
          "name": "stdout",
          "output_type": "stream",
          "text": [
            "<class 'float'>\n"
          ]
        }
      ],
      "source": [
        "print(type(valor_1))"
      ]
    },
    {
      "cell_type": "code",
      "execution_count": null,
      "id": "161d3057",
      "metadata": {
        "id": "161d3057",
        "outputId": "3a660088-1750-48d3-b898-dc21f17b1f6e"
      },
      "outputs": [
        {
          "name": "stdout",
          "output_type": "stream",
          "text": [
            "[0.93512954 0.72216654 0.91729076 0.37734535 0.44298797]\n"
          ]
        }
      ],
      "source": [
        "array_1 = np.random.random(5)\n",
        "print(array_1)"
      ]
    },
    {
      "cell_type": "code",
      "execution_count": null,
      "id": "bc38a39f",
      "metadata": {
        "id": "bc38a39f",
        "outputId": "e79667a2-4612-4bcc-9bec-92513521b3c4"
      },
      "outputs": [
        {
          "name": "stdout",
          "output_type": "stream",
          "text": [
            "<class 'numpy.ndarray'>\n"
          ]
        }
      ],
      "source": [
        "print(type(array_1))"
      ]
    },
    {
      "cell_type": "code",
      "execution_count": null,
      "id": "4201f917",
      "metadata": {
        "id": "4201f917",
        "outputId": "1bb86bb3-bdaf-4094-87f9-a802a0959a70"
      },
      "outputs": [
        {
          "name": "stdout",
          "output_type": "stream",
          "text": [
            "[[0.19706616 0.88259208 0.64203623]\n",
            " [0.61307309 0.02819317 0.71824249]\n",
            " [0.65977236 0.45648839 0.62315494]]\n"
          ]
        }
      ],
      "source": [
        "matriz_1 = np.random.random((3,3))\n",
        "print(matriz_1)"
      ]
    },
    {
      "cell_type": "markdown",
      "id": "d11d61e1",
      "metadata": {
        "id": "d11d61e1"
      },
      "source": [
        "# random.randint()"
      ]
    },
    {
      "cell_type": "code",
      "execution_count": null,
      "id": "16015d9b",
      "metadata": {
        "id": "16015d9b",
        "outputId": "3ec4624c-e8ef-43e4-f001-423a35d7287d"
      },
      "outputs": [
        {
          "name": "stdout",
          "output_type": "stream",
          "text": [
            "85\n"
          ]
        }
      ],
      "source": [
        "valor_2 = np.random.randint(100)\n",
        "print(valor_2)"
      ]
    },
    {
      "cell_type": "code",
      "execution_count": null,
      "id": "47f52322",
      "metadata": {
        "id": "47f52322",
        "outputId": "39279775-cee0-4f02-eb2f-21ccd28edf62"
      },
      "outputs": [
        {
          "name": "stdout",
          "output_type": "stream",
          "text": [
            "97\n"
          ]
        }
      ],
      "source": [
        "valor_3 = np.random.randint(100)\n",
        "print(valor_3)"
      ]
    },
    {
      "cell_type": "code",
      "execution_count": null,
      "id": "303160f8",
      "metadata": {
        "id": "303160f8",
        "outputId": "b4b31e83-c836-4edd-b522-1df6fd8d6c69"
      },
      "outputs": [
        {
          "name": "stdout",
          "output_type": "stream",
          "text": [
            "88\n"
          ]
        }
      ],
      "source": [
        "valor_5 = np.random.randint(85,100)\n",
        "print(valor_5)"
      ]
    },
    {
      "cell_type": "code",
      "execution_count": null,
      "id": "9d3ebf99",
      "metadata": {
        "id": "9d3ebf99",
        "outputId": "a91c1d57-26c2-4b6e-b65c-90ab2e44c2d6"
      },
      "outputs": [
        {
          "name": "stdout",
          "output_type": "stream",
          "text": [
            "91\n"
          ]
        }
      ],
      "source": [
        "valor_6 = np.random.randint(75,100)\n",
        "print(valor_6)"
      ]
    },
    {
      "cell_type": "code",
      "execution_count": null,
      "id": "b725a4a6",
      "metadata": {
        "id": "b725a4a6",
        "outputId": "d4d80713-1001-4879-a888-e534e885b547"
      },
      "outputs": [
        {
          "name": "stdout",
          "output_type": "stream",
          "text": [
            "[76 97 78 89]\n"
          ]
        }
      ],
      "source": [
        "array_2 = np.random.randint(75,100, 4)\n",
        "print(array_2)"
      ]
    },
    {
      "cell_type": "code",
      "execution_count": null,
      "id": "9dadc6f7",
      "metadata": {
        "id": "9dadc6f7",
        "outputId": "deb57622-d718-486c-d9af-e7483af965ca"
      },
      "outputs": [
        {
          "name": "stdout",
          "output_type": "stream",
          "text": [
            "<class 'numpy.ndarray'>\n"
          ]
        }
      ],
      "source": [
        "print(type(array_2))"
      ]
    },
    {
      "cell_type": "code",
      "execution_count": null,
      "id": "ebd93f1a",
      "metadata": {
        "id": "ebd93f1a",
        "outputId": "44dbe3a2-6e6d-4b53-d6e8-2d0b8ca4d8ad"
      },
      "outputs": [
        {
          "name": "stdout",
          "output_type": "stream",
          "text": [
            "[[96 78 78 90 81]\n",
            " [84 95 87 80 81]\n",
            " [80 94 81 92 81]\n",
            " [86 97 79 99 94]\n",
            " [89 77 95 94 91]]\n"
          ]
        }
      ],
      "source": [
        "matriz_2 = np.random.randint(75,100, (5,5))\n",
        "print(matriz_2)"
      ]
    },
    {
      "cell_type": "code",
      "execution_count": null,
      "id": "bd9b0fe0",
      "metadata": {
        "id": "bd9b0fe0",
        "outputId": "8ec6b3f1-e767-4726-a3c6-95664a009a06"
      },
      "outputs": [
        {
          "name": "stdout",
          "output_type": "stream",
          "text": [
            "<class 'numpy.ndarray'>\n"
          ]
        }
      ],
      "source": [
        "print(type(matriz_2))"
      ]
    },
    {
      "cell_type": "code",
      "execution_count": null,
      "id": "2e2024fd",
      "metadata": {
        "id": "2e2024fd"
      },
      "outputs": [],
      "source": [
        ""
      ]
    }
  ],
  "metadata": {
    "kernelspec": {
      "display_name": "Python 3 (ipykernel)",
      "language": "python",
      "name": "python3"
    },
    "language_info": {
      "codemirror_mode": {
        "name": "ipython",
        "version": 3
      },
      "file_extension": ".py",
      "mimetype": "text/x-python",
      "name": "python",
      "nbconvert_exporter": "python",
      "pygments_lexer": "ipython3",
      "version": "3.9.7"
    },
    "colab": {
      "name": "NumPy 4 Arrays Aleatorios.ipynb",
      "provenance": []
    }
  },
  "nbformat": 4,
  "nbformat_minor": 5
}