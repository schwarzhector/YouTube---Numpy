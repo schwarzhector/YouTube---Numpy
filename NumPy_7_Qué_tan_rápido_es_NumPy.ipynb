{
  "cells": [
    {
      "cell_type": "markdown",
      "source": [
        "### Código utilizado en el video:\n",
        "https://youtu.be/hIKCqRXwPPk"
      ],
      "metadata": {
        "id": "IzrOZiMfHclN"
      },
      "id": "IzrOZiMfHclN"
    },
    {
      "cell_type": "code",
      "execution_count": null,
      "id": "710eb23d",
      "metadata": {
        "id": "710eb23d"
      },
      "outputs": [],
      "source": [
        "import numpy as np\n",
        "import time"
      ]
    },
    {
      "cell_type": "markdown",
      "id": "7cd4d813",
      "metadata": {
        "id": "7cd4d813"
      },
      "source": [
        "# Promedios"
      ]
    },
    {
      "cell_type": "code",
      "execution_count": null,
      "id": "7edded3e",
      "metadata": {
        "id": "7edded3e",
        "outputId": "831733a9-3505-4d68-d8dd-3037dcb5aefc"
      },
      "outputs": [
        {
          "name": "stdout",
          "output_type": "stream",
          "text": [
            "  Promedio: \n",
            "12499999.5\n",
            "  Duración: \n",
            "3.858527421951294\n"
          ]
        }
      ],
      "source": [
        "comienzo = time.time()\n",
        "\n",
        "lista = [i for i in range(25000000)]   # 25,000,000\n",
        "\n",
        "contador = 0\n",
        "\n",
        "for numero in lista:\n",
        "    contador = contador + numero\n",
        "\n",
        "promedio =  contador / len(lista)\n",
        "\n",
        "print('  Promedio: ')\n",
        "print(promedio)\n",
        "    \n",
        "fin = time.time()\n",
        "\n",
        "print('  Duración: ')\n",
        "print(fin-comienzo)"
      ]
    },
    {
      "cell_type": "code",
      "execution_count": null,
      "id": "03a05ec6",
      "metadata": {
        "id": "03a05ec6",
        "outputId": "7afcdac8-2505-4570-8492-77b5eaf764a3"
      },
      "outputs": [
        {
          "name": "stdout",
          "output_type": "stream",
          "text": [
            "  Resultado: \n",
            "12499999.5\n",
            "  Duración: \n",
            "0.06085968017578125\n"
          ]
        }
      ],
      "source": [
        "comienzo = time.time()\n",
        "\n",
        "lista_np = np.arange(0,25000000)   # 25,000,000\n",
        "\n",
        "print('  Resultado: ')\n",
        "print(np.mean(lista_np))\n",
        "\n",
        "fin = time.time()\n",
        "\n",
        "print('  Duración: ')\n",
        "print(fin-comienzo)"
      ]
    },
    {
      "cell_type": "markdown",
      "id": "9a08496f",
      "metadata": {
        "id": "9a08496f"
      },
      "source": [
        "# Sumas"
      ]
    },
    {
      "cell_type": "code",
      "execution_count": null,
      "id": "b78f2d37",
      "metadata": {
        "id": "b78f2d37",
        "outputId": "29e6b311-a88d-42c6-8700-2f77e25739c2"
      },
      "outputs": [
        {
          "name": "stdout",
          "output_type": "stream",
          "text": [
            "Resultado: \n",
            "49995000\n",
            "Duración: \n",
            "0.28224635124206543\n"
          ]
        }
      ],
      "source": [
        "comienzo = time.time()\n",
        "\n",
        "lista = [i for i in range(10000)] #10,000\n",
        "\n",
        "contador = 0\n",
        "\n",
        "for numero in lista:\n",
        "    contador = contador + numero\n",
        "\n",
        "print('Resultado: ')\n",
        "print(contador)\n",
        "\n",
        "fin = time.time()\n",
        "\n",
        "print('Duración: ')\n",
        "print(fin-comienzo)"
      ]
    },
    {
      "cell_type": "code",
      "execution_count": null,
      "id": "321ac44a",
      "metadata": {
        "scrolled": true,
        "id": "321ac44a",
        "outputId": "1b6b90f2-b3fc-4699-f78a-b94ceed5e3af"
      },
      "outputs": [
        {
          "name": "stdout",
          "output_type": "stream",
          "text": [
            "Resultado: \n",
            "49995000\n",
            "Duración: \n",
            "0.008974075317382812\n"
          ]
        }
      ],
      "source": [
        "comienzo = time.time()\n",
        "\n",
        "lista_np = np.arange(0, 10000) #10,000\n",
        "\n",
        "print('Resultado: ')\n",
        "print(np.sum(lista_np))\n",
        "\n",
        "fin = time.time()\n",
        "\n",
        "print('Duración: ')\n",
        "print(fin-comienzo)"
      ]
    },
    {
      "cell_type": "markdown",
      "id": "8139865f",
      "metadata": {
        "id": "8139865f"
      },
      "source": [
        "# Máximos"
      ]
    },
    {
      "cell_type": "code",
      "execution_count": null,
      "id": "ee19640c",
      "metadata": {
        "id": "ee19640c",
        "outputId": "36b67b5b-6c7e-4ead-d301-9395cfa5880c"
      },
      "outputs": [
        {
          "name": "stdout",
          "output_type": "stream",
          "text": [
            "  El número máximo es: \n",
            "27499999\n",
            "  Duración: \n",
            "3.5753445625305176\n"
          ]
        }
      ],
      "source": [
        "comienzo = time.time()\n",
        "\n",
        "lista = [i for i in range(27500000)]   # 27,500,000\n",
        "\n",
        "contador = 0\n",
        "\n",
        "maximo = 0\n",
        "\n",
        "for numero in lista:\n",
        "    if numero > maximo:\n",
        "        maximo = numero\n",
        "\n",
        "print('  El número máximo es: ')\n",
        "print(maximo)\n",
        "    \n",
        "fin = time.time()\n",
        "\n",
        "print('  Duración: ')\n",
        "print(fin-comienzo)"
      ]
    },
    {
      "cell_type": "code",
      "execution_count": null,
      "id": "2d44f4f8",
      "metadata": {
        "id": "2d44f4f8",
        "outputId": "2e36cf0d-5907-4083-f681-8d3528606448"
      },
      "outputs": [
        {
          "name": "stdout",
          "output_type": "stream",
          "text": [
            "  El número máximo es: \n",
            "27499999\n",
            "  Duración: \n",
            "0.05488157272338867\n"
          ]
        }
      ],
      "source": [
        "comienzo = time.time()\n",
        "\n",
        "lista_np = np.arange(0,27500000)   # 27,500,000\n",
        "\n",
        "print('  El número máximo es: ')\n",
        "print(np.max(lista_np))\n",
        "\n",
        "fin = time.time()\n",
        "\n",
        "print('  Duración: ')\n",
        "print(fin-comienzo)"
      ]
    },
    {
      "cell_type": "markdown",
      "id": "17afc5d9",
      "metadata": {
        "id": "17afc5d9"
      },
      "source": [
        "# Operaciones"
      ]
    },
    {
      "cell_type": "code",
      "execution_count": null,
      "id": "05cf1603",
      "metadata": {
        "id": "05cf1603",
        "outputId": "011803a4-7e2e-447a-fa4c-76d3e041def7"
      },
      "outputs": [
        {
          "name": "stdout",
          "output_type": "stream",
          "text": [
            "  Resultado en la última posición: \n",
            "315002\n",
            "  Duración: \n",
            "0.3819692134857178\n"
          ]
        }
      ],
      "source": [
        "comienzo = time.time()\n",
        "\n",
        "lista = [i for i in range(315000)]   # 315,000\n",
        "\n",
        "lista_operaciones = [ (x+3) for x in lista]\n",
        "\n",
        "print('  Resultado en la última posición: ')\n",
        "print(lista_operaciones[-1])    \n",
        "fin = time.time()\n",
        "\n",
        "print('  Duración: ')\n",
        "print(fin-comienzo)"
      ]
    },
    {
      "cell_type": "code",
      "execution_count": null,
      "id": "00e49566",
      "metadata": {
        "id": "00e49566",
        "outputId": "1253e328-fe4c-45ac-ec4d-3ec2b15a0113"
      },
      "outputs": [
        {
          "name": "stdout",
          "output_type": "stream",
          "text": [
            "  Resultado en la última posición: \n",
            "315002\n",
            "  Duración: \n",
            "0.012963533401489258\n"
          ]
        }
      ],
      "source": [
        "comienzo = time.time()\n",
        "\n",
        "lista_np = np.arange(0, 315000)  # 315,000\n",
        "\n",
        "lista_np = lista_np + 3\n",
        "\n",
        "print('  Resultado en la última posición: ')\n",
        "print(lista_np[-1])\n",
        "\n",
        "fin = time.time()\n",
        "\n",
        "print('  Duración: ')\n",
        "print(fin-comienzo)"
      ]
    },
    {
      "cell_type": "code",
      "execution_count": null,
      "id": "71d9a022",
      "metadata": {
        "id": "71d9a022"
      },
      "outputs": [],
      "source": [
        ""
      ]
    }
  ],
  "metadata": {
    "kernelspec": {
      "display_name": "Python 3 (ipykernel)",
      "language": "python",
      "name": "python3"
    },
    "language_info": {
      "codemirror_mode": {
        "name": "ipython",
        "version": 3
      },
      "file_extension": ".py",
      "mimetype": "text/x-python",
      "name": "python",
      "nbconvert_exporter": "python",
      "pygments_lexer": "ipython3",
      "version": "3.9.7"
    },
    "colab": {
      "name": "NumPy 7 Qué tan rápido es NumPy.ipynb",
      "provenance": []
    }
  },
  "nbformat": 4,
  "nbformat_minor": 5
}