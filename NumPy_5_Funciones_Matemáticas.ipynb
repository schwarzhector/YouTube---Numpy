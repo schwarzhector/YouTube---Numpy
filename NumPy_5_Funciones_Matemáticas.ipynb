{
  "cells": [
    {
      "cell_type": "markdown",
      "source": [
        "### Código utilizado en el video:\n",
        "https://youtu.be/1AUNxUTdr8o"
      ],
      "metadata": {
        "id": "HTGsslCSHk7e"
      },
      "id": "HTGsslCSHk7e"
    },
    {
      "cell_type": "code",
      "execution_count": null,
      "id": "ebcb35c2",
      "metadata": {
        "id": "ebcb35c2"
      },
      "outputs": [],
      "source": [
        "import numpy as np"
      ]
    },
    {
      "cell_type": "code",
      "execution_count": null,
      "id": "0ed23d4f",
      "metadata": {
        "id": "0ed23d4f",
        "outputId": "f3f6f4f8-0d51-47c2-8d13-25cae94b3987"
      },
      "outputs": [
        {
          "name": "stdout",
          "output_type": "stream",
          "text": [
            "[1. 1. 1. 1. 1. 1. 1. 1.]\n"
          ]
        }
      ],
      "source": [
        "array_unos = np.ones(8)\n",
        "print(array_unos)"
      ]
    },
    {
      "cell_type": "code",
      "execution_count": null,
      "id": "4696412c",
      "metadata": {
        "id": "4696412c",
        "outputId": "0474d53d-e058-4e49-b84b-242ea1f9396f"
      },
      "outputs": [
        {
          "name": "stdout",
          "output_type": "stream",
          "text": [
            "[0.71460777 0.68468994 0.04236689 0.28102415 0.97642868 0.33126787\n",
            " 0.25017022 0.35968594]\n"
          ]
        }
      ],
      "source": [
        "array_aleatorio1 = np.random.random(8)\n",
        "print(array_aleatorio1)"
      ]
    },
    {
      "cell_type": "code",
      "execution_count": null,
      "id": "605d3f5a",
      "metadata": {
        "id": "605d3f5a",
        "outputId": "9407a9f5-8244-45b2-e7af-f228fa2b3aa3"
      },
      "outputs": [
        {
          "name": "stdout",
          "output_type": "stream",
          "text": [
            "[3 1 7 1 9 3 8 7]\n"
          ]
        }
      ],
      "source": [
        "array_aleatorio2 = np.random.randint(10,size=8)\n",
        "print(array_aleatorio2)"
      ]
    },
    {
      "cell_type": "markdown",
      "id": "79e2ab7e",
      "metadata": {
        "id": "79e2ab7e"
      },
      "source": [
        "# Suma"
      ]
    },
    {
      "cell_type": "code",
      "execution_count": null,
      "id": "7fbe4090",
      "metadata": {
        "id": "7fbe4090",
        "outputId": "ef29ef6c-fc8d-40d2-98c4-3a736565e65b"
      },
      "outputs": [
        {
          "name": "stdout",
          "output_type": "stream",
          "text": [
            "[1.71460777 1.68468994 1.04236689 1.28102415 1.97642868 1.33126787\n",
            " 1.25017022 1.35968594]\n"
          ]
        }
      ],
      "source": [
        "suma_1 = array_unos + array_aleatorio1\n",
        "print(suma_1)"
      ]
    },
    {
      "cell_type": "code",
      "execution_count": null,
      "id": "ede36dcd",
      "metadata": {
        "id": "ede36dcd",
        "outputId": "e542cd4b-99e8-42a8-826c-d0fa2cb788b4"
      },
      "outputs": [
        {
          "name": "stdout",
          "output_type": "stream",
          "text": [
            "39\n"
          ]
        }
      ],
      "source": [
        "suma_2 = np.sum(array_aleatorio2)\n",
        "print(suma_2)"
      ]
    },
    {
      "cell_type": "markdown",
      "id": "9c3b60f4",
      "metadata": {
        "id": "9c3b60f4"
      },
      "source": [
        "# Resta"
      ]
    },
    {
      "cell_type": "code",
      "execution_count": null,
      "id": "6dfa2cb9",
      "metadata": {
        "id": "6dfa2cb9",
        "outputId": "acd6ea42-82c1-4df0-e19a-132f309eb8d5"
      },
      "outputs": [
        {
          "name": "stdout",
          "output_type": "stream",
          "text": [
            "[0.71460777 0.68468994 0.04236689 0.28102415 0.97642868 0.33126787\n",
            " 0.25017022 0.35968594]\n"
          ]
        }
      ],
      "source": [
        "resta_1 = suma_1 - array_unos\n",
        "print(resta_1)"
      ]
    },
    {
      "cell_type": "code",
      "execution_count": null,
      "id": "c7fef3a9",
      "metadata": {
        "id": "c7fef3a9",
        "outputId": "47cccc47-c7d4-4d8a-f66c-1c9b62d403e4"
      },
      "outputs": [
        {
          "name": "stdout",
          "output_type": "stream",
          "text": [
            "[0.71460777 0.68468994 0.04236689 0.28102415 0.97642868 0.33126787\n",
            " 0.25017022 0.35968594]\n"
          ]
        }
      ],
      "source": [
        "resta_2 = np.subtract(suma_1, array_unos)\n",
        "print(resta_2)"
      ]
    },
    {
      "cell_type": "code",
      "execution_count": null,
      "id": "8ee3459d",
      "metadata": {
        "id": "8ee3459d",
        "outputId": "9c6821b4-7d5e-4489-e2d7-5f969ef4bef0"
      },
      "outputs": [
        {
          "name": "stdout",
          "output_type": "stream",
          "text": [
            "[2 0 6 0 8 2 7 6]\n"
          ]
        }
      ],
      "source": [
        "array_subs = np.subtract(array_aleatorio2, 1)\n",
        "print(array_subs)"
      ]
    },
    {
      "cell_type": "markdown",
      "id": "9378cf91",
      "metadata": {
        "id": "9378cf91"
      },
      "source": [
        "# Multiplicación"
      ]
    },
    {
      "cell_type": "code",
      "execution_count": null,
      "id": "7d3362fb",
      "metadata": {
        "id": "7d3362fb",
        "outputId": "b3c920f9-7ebe-4843-b330-48d9fb00eed3"
      },
      "outputs": [
        {
          "name": "stdout",
          "output_type": "stream",
          "text": [
            "[2.1438233  0.68468994 0.2965682  0.28102415 8.78785809 0.99380362\n",
            " 2.00136175 2.51780156]\n"
          ]
        }
      ],
      "source": [
        "producto_1 = array_aleatorio1 * array_aleatorio2\n",
        "print(producto_1)"
      ]
    },
    {
      "cell_type": "code",
      "execution_count": null,
      "id": "977d18b1",
      "metadata": {
        "id": "977d18b1",
        "outputId": "ceec561d-ed2a-46ec-8c83-57a31c16c4b6"
      },
      "outputs": [
        {
          "name": "stdout",
          "output_type": "stream",
          "text": [
            "[2.1438233  0.68468994 0.2965682  0.28102415 8.78785809 0.99380362\n",
            " 2.00136175 2.51780156]\n"
          ]
        }
      ],
      "source": [
        "producto_2 = np.multiply(array_aleatorio1, array_aleatorio2)\n",
        "print(producto_2)"
      ]
    },
    {
      "cell_type": "code",
      "execution_count": null,
      "id": "ce94d044",
      "metadata": {
        "id": "ce94d044",
        "outputId": "3b2db33b-d67d-4c39-8531-8ca271ba3fd1"
      },
      "outputs": [
        {
          "name": "stdout",
          "output_type": "stream",
          "text": [
            "[ 6  0 18  0 24  6 21 18]\n"
          ]
        }
      ],
      "source": [
        "producto_3 = np.multiply(array_subs, 3)\n",
        "print(producto_3)"
      ]
    },
    {
      "cell_type": "markdown",
      "id": "6abee1ca",
      "metadata": {
        "id": "6abee1ca"
      },
      "source": [
        "# Negativos"
      ]
    },
    {
      "cell_type": "code",
      "execution_count": null,
      "id": "6d4260aa",
      "metadata": {
        "id": "6d4260aa",
        "outputId": "88dcaf0a-0087-4be0-97cf-c1c7885d9585"
      },
      "outputs": [
        {
          "name": "stdout",
          "output_type": "stream",
          "text": [
            "[ -6   0 -18   0 -24  -6 -21 -18]\n"
          ]
        }
      ],
      "source": [
        "negativo = np.negative(producto_3)\n",
        "print(negativo)"
      ]
    },
    {
      "cell_type": "markdown",
      "id": "98a4ed40",
      "metadata": {
        "id": "98a4ed40"
      },
      "source": [
        "# Elevar al cuadrado"
      ]
    },
    {
      "cell_type": "code",
      "execution_count": null,
      "id": "ee7c01ec",
      "metadata": {
        "id": "ee7c01ec",
        "outputId": "1292d805-1ad7-4818-e43a-e16200c3e628"
      },
      "outputs": [
        {
          "name": "stdout",
          "output_type": "stream",
          "text": [
            "[ 36   0 324   0 576  36 441 324]\n"
          ]
        }
      ],
      "source": [
        "cuadrado = np.square(negativo)\n",
        "print(cuadrado)"
      ]
    },
    {
      "cell_type": "markdown",
      "id": "91fe1b2a",
      "metadata": {
        "id": "91fe1b2a"
      },
      "source": [
        "# Raíz cuadrada"
      ]
    },
    {
      "cell_type": "code",
      "execution_count": null,
      "id": "19ec95d0",
      "metadata": {
        "id": "19ec95d0",
        "outputId": "48080ce2-b4e0-4f17-8efc-0a96523a1541"
      },
      "outputs": [
        {
          "name": "stdout",
          "output_type": "stream",
          "text": [
            "[ 6.  0. 18.  0. 24.  6. 21. 18.]\n"
          ]
        }
      ],
      "source": [
        "raiz = np.sqrt(cuadrado)\n",
        "print(raiz)"
      ]
    },
    {
      "cell_type": "code",
      "execution_count": null,
      "id": "25036291",
      "metadata": {
        "id": "25036291"
      },
      "outputs": [],
      "source": [
        ""
      ]
    }
  ],
  "metadata": {
    "kernelspec": {
      "display_name": "Python 3 (ipykernel)",
      "language": "python",
      "name": "python3"
    },
    "language_info": {
      "codemirror_mode": {
        "name": "ipython",
        "version": 3
      },
      "file_extension": ".py",
      "mimetype": "text/x-python",
      "name": "python",
      "nbconvert_exporter": "python",
      "pygments_lexer": "ipython3",
      "version": "3.9.7"
    },
    "colab": {
      "name": "NumPy 5 Funciones Matemáticas.ipynb",
      "provenance": []
    }
  },
  "nbformat": 4,
  "nbformat_minor": 5
}