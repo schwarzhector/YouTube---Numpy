{
  "cells": [
    {
      "cell_type": "markdown",
      "source": [
        "### Código utilizado en el video:\n",
        "https://youtu.be/cvn_Da4pIP4"
      ],
      "metadata": {
        "id": "_YSZTI0CHjB-"
      },
      "id": "_YSZTI0CHjB-"
    },
    {
      "cell_type": "code",
      "execution_count": null,
      "id": "9336470e",
      "metadata": {
        "id": "9336470e"
      },
      "outputs": [],
      "source": [
        "import numpy as np"
      ]
    },
    {
      "cell_type": "markdown",
      "id": "18bc51c3",
      "metadata": {
        "id": "18bc51c3"
      },
      "source": [
        "# .linspace()"
      ]
    },
    {
      "cell_type": "code",
      "execution_count": null,
      "id": "63ba3126",
      "metadata": {
        "id": "63ba3126"
      },
      "outputs": [],
      "source": [
        "array_1 = np.linspace(0, 100, num=5)"
      ]
    },
    {
      "cell_type": "code",
      "execution_count": null,
      "id": "32d89b81",
      "metadata": {
        "id": "32d89b81",
        "outputId": "cb864eb1-6176-4984-9b77-0d2ca7940a81"
      },
      "outputs": [
        {
          "name": "stdout",
          "output_type": "stream",
          "text": [
            "[  0.  25.  50.  75. 100.]\n"
          ]
        }
      ],
      "source": [
        "print(array_1)"
      ]
    },
    {
      "cell_type": "code",
      "execution_count": null,
      "id": "9ad68710",
      "metadata": {
        "id": "9ad68710",
        "outputId": "564ee33f-c49c-4a87-90cc-621505c731fb"
      },
      "outputs": [
        {
          "name": "stdout",
          "output_type": "stream",
          "text": [
            "<class 'numpy.ndarray'>\n"
          ]
        }
      ],
      "source": [
        "print(type(array_1))"
      ]
    },
    {
      "cell_type": "code",
      "execution_count": null,
      "id": "58734ade",
      "metadata": {
        "id": "58734ade"
      },
      "outputs": [],
      "source": [
        "array_2 = np.linspace(0, 20, num=5)"
      ]
    },
    {
      "cell_type": "code",
      "execution_count": null,
      "id": "de2a626d",
      "metadata": {
        "id": "de2a626d",
        "outputId": "03d42714-e6ee-4d76-9cb0-6ab2dc108333"
      },
      "outputs": [
        {
          "name": "stdout",
          "output_type": "stream",
          "text": [
            "[ 0.  5. 10. 15. 20.]\n"
          ]
        }
      ],
      "source": [
        "print(array_2)"
      ]
    },
    {
      "cell_type": "code",
      "execution_count": null,
      "id": "63c4d4e8",
      "metadata": {
        "id": "63c4d4e8"
      },
      "outputs": [],
      "source": [
        "array_3 = np.linspace(0, 20)"
      ]
    },
    {
      "cell_type": "code",
      "execution_count": null,
      "id": "cd2aa754",
      "metadata": {
        "id": "cd2aa754",
        "outputId": "e270ded8-e983-4f99-e009-52ec863cfe21"
      },
      "outputs": [
        {
          "name": "stdout",
          "output_type": "stream",
          "text": [
            "[ 0.          0.40816327  0.81632653  1.2244898   1.63265306  2.04081633\n",
            "  2.44897959  2.85714286  3.26530612  3.67346939  4.08163265  4.48979592\n",
            "  4.89795918  5.30612245  5.71428571  6.12244898  6.53061224  6.93877551\n",
            "  7.34693878  7.75510204  8.16326531  8.57142857  8.97959184  9.3877551\n",
            "  9.79591837 10.20408163 10.6122449  11.02040816 11.42857143 11.83673469\n",
            " 12.24489796 12.65306122 13.06122449 13.46938776 13.87755102 14.28571429\n",
            " 14.69387755 15.10204082 15.51020408 15.91836735 16.32653061 16.73469388\n",
            " 17.14285714 17.55102041 17.95918367 18.36734694 18.7755102  19.18367347\n",
            " 19.59183673 20.        ]\n"
          ]
        }
      ],
      "source": [
        "print(array_3)"
      ]
    },
    {
      "cell_type": "code",
      "execution_count": null,
      "id": "7ee22f39",
      "metadata": {
        "id": "7ee22f39"
      },
      "outputs": [],
      "source": [
        "array_4 = np.linspace(0,100, num=4, endpoint=False)"
      ]
    },
    {
      "cell_type": "code",
      "execution_count": null,
      "id": "200009cb",
      "metadata": {
        "id": "200009cb",
        "outputId": "05b97729-dc2e-464a-dfae-17562524f288"
      },
      "outputs": [
        {
          "name": "stdout",
          "output_type": "stream",
          "text": [
            "[ 0. 25. 50. 75.]\n"
          ]
        }
      ],
      "source": [
        "print(array_4)"
      ]
    },
    {
      "cell_type": "code",
      "execution_count": null,
      "id": "7ce37e5e",
      "metadata": {
        "id": "7ce37e5e",
        "outputId": "b4132f38-c733-4a39-b3a2-63030123f4e5"
      },
      "outputs": [
        {
          "name": "stdout",
          "output_type": "stream",
          "text": [
            "[  0.  25.  50.  75. 100.]\n"
          ]
        }
      ],
      "source": [
        "print(array_1)"
      ]
    },
    {
      "cell_type": "code",
      "execution_count": null,
      "id": "5c30cc68",
      "metadata": {
        "id": "5c30cc68",
        "outputId": "2292b7c6-a73b-4706-e1e3-42c34f4ab81f"
      },
      "outputs": [
        {
          "name": "stdout",
          "output_type": "stream",
          "text": [
            "<class 'numpy.float64'>\n"
          ]
        }
      ],
      "source": [
        "print(type(array_1[0]))"
      ]
    },
    {
      "cell_type": "code",
      "execution_count": null,
      "id": "4f38ea7b",
      "metadata": {
        "id": "4f38ea7b"
      },
      "outputs": [],
      "source": [
        "array_1 = np.linspace(0, 100, num=5, dtype=int)"
      ]
    },
    {
      "cell_type": "code",
      "execution_count": null,
      "id": "4767ca33",
      "metadata": {
        "id": "4767ca33",
        "outputId": "fb4fe6b1-8171-41f7-f041-33c14661232f"
      },
      "outputs": [
        {
          "name": "stdout",
          "output_type": "stream",
          "text": [
            "[  0  25  50  75 100]\n"
          ]
        }
      ],
      "source": [
        "print(array_1)"
      ]
    },
    {
      "cell_type": "code",
      "execution_count": null,
      "id": "252b037a",
      "metadata": {
        "id": "252b037a",
        "outputId": "432de0f7-2c98-4ac2-d6a9-a85beb6bc351"
      },
      "outputs": [
        {
          "name": "stdout",
          "output_type": "stream",
          "text": [
            "<class 'numpy.int32'>\n"
          ]
        }
      ],
      "source": [
        "print(type(array_1[0]))"
      ]
    },
    {
      "cell_type": "markdown",
      "id": "965a56ce",
      "metadata": {
        "id": "965a56ce"
      },
      "source": [
        "# .arange()"
      ]
    },
    {
      "cell_type": "code",
      "execution_count": null,
      "id": "6ff40add",
      "metadata": {
        "id": "6ff40add"
      },
      "outputs": [],
      "source": [
        "array_5 = np.arange(1,10,1)"
      ]
    },
    {
      "cell_type": "code",
      "execution_count": null,
      "id": "389b57f3",
      "metadata": {
        "id": "389b57f3",
        "outputId": "53dfaabf-a50a-4e86-d7d1-1c227dec8c70"
      },
      "outputs": [
        {
          "name": "stdout",
          "output_type": "stream",
          "text": [
            "[1 2 3 4 5 6 7 8 9]\n"
          ]
        }
      ],
      "source": [
        "print(array_5)"
      ]
    },
    {
      "cell_type": "code",
      "execution_count": null,
      "id": "3d532310",
      "metadata": {
        "id": "3d532310"
      },
      "outputs": [],
      "source": [
        "array_6 = np.arange(1,10, 0.5)"
      ]
    },
    {
      "cell_type": "code",
      "execution_count": null,
      "id": "01721a5d",
      "metadata": {
        "id": "01721a5d",
        "outputId": "21c0d673-663b-4420-db29-d381aaf797e2"
      },
      "outputs": [
        {
          "name": "stdout",
          "output_type": "stream",
          "text": [
            "[1.  1.5 2.  2.5 3.  3.5 4.  4.5 5.  5.5 6.  6.5 7.  7.5 8.  8.5 9.  9.5]\n"
          ]
        }
      ],
      "source": [
        "print(array_6)"
      ]
    },
    {
      "cell_type": "code",
      "execution_count": null,
      "id": "3ba6631c",
      "metadata": {
        "id": "3ba6631c"
      },
      "outputs": [],
      "source": [
        "array_7 = np.arange(1,10,0.3)"
      ]
    },
    {
      "cell_type": "code",
      "execution_count": null,
      "id": "5867a04b",
      "metadata": {
        "id": "5867a04b",
        "outputId": "d9522232-e144-42a5-bd3d-19dcee285866"
      },
      "outputs": [
        {
          "name": "stdout",
          "output_type": "stream",
          "text": [
            "[1.  1.3 1.6 1.9 2.2 2.5 2.8 3.1 3.4 3.7 4.  4.3 4.6 4.9 5.2 5.5 5.8 6.1\n",
            " 6.4 6.7 7.  7.3 7.6 7.9 8.2 8.5 8.8 9.1 9.4 9.7]\n"
          ]
        }
      ],
      "source": [
        "print(array_7)"
      ]
    },
    {
      "cell_type": "code",
      "execution_count": null,
      "id": "af9896cb",
      "metadata": {
        "id": "af9896cb"
      },
      "outputs": [],
      "source": [
        "array_8 = np.arange(1,10,1, dtype=float)"
      ]
    },
    {
      "cell_type": "code",
      "execution_count": null,
      "id": "d4838590",
      "metadata": {
        "id": "d4838590",
        "outputId": "cb329965-10a4-4c64-d3fe-cbf4b7f3a292"
      },
      "outputs": [
        {
          "name": "stdout",
          "output_type": "stream",
          "text": [
            "[1. 2. 3. 4. 5. 6. 7. 8. 9.]\n"
          ]
        }
      ],
      "source": [
        "print(array_8)"
      ]
    },
    {
      "cell_type": "code",
      "execution_count": null,
      "id": "4205f212",
      "metadata": {
        "id": "4205f212"
      },
      "outputs": [],
      "source": [
        ""
      ]
    }
  ],
  "metadata": {
    "kernelspec": {
      "display_name": "Python 3 (ipykernel)",
      "language": "python",
      "name": "python3"
    },
    "language_info": {
      "codemirror_mode": {
        "name": "ipython",
        "version": 3
      },
      "file_extension": ".py",
      "mimetype": "text/x-python",
      "name": "python",
      "nbconvert_exporter": "python",
      "pygments_lexer": "ipython3",
      "version": "3.9.7"
    },
    "colab": {
      "name": "NumPy 3 Arrays Espaciados Uniformemente.ipynb",
      "provenance": []
    }
  },
  "nbformat": 4,
  "nbformat_minor": 5
}