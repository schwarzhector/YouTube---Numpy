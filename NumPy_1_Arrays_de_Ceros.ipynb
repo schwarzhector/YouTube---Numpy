{
  "cells": [
    {
      "cell_type": "markdown",
      "source": [
        "### Código utilizado en el video:\n",
        "https://youtu.be/K1dGEyxjijc"
      ],
      "metadata": {
        "id": "1hai1cNXC7y_"
      },
      "id": "1hai1cNXC7y_"
    },
    {
      "cell_type": "code",
      "execution_count": null,
      "id": "3e81a84a",
      "metadata": {
        "id": "3e81a84a"
      },
      "outputs": [],
      "source": [
        "import numpy as np"
      ]
    },
    {
      "cell_type": "markdown",
      "id": "8b74cdcc",
      "metadata": {
        "id": "8b74cdcc"
      },
      "source": [
        "# .zeros()"
      ]
    },
    {
      "cell_type": "code",
      "execution_count": null,
      "id": "b264354d",
      "metadata": {
        "id": "b264354d"
      },
      "outputs": [],
      "source": [
        "array_1 = np.zeros(8)"
      ]
    },
    {
      "cell_type": "code",
      "execution_count": null,
      "id": "ea5390f2",
      "metadata": {
        "id": "ea5390f2",
        "outputId": "9a282a0d-8c9a-44a9-f9f0-a7235d5c405f"
      },
      "outputs": [
        {
          "name": "stdout",
          "output_type": "stream",
          "text": [
            "[0. 0. 0. 0. 0. 0. 0. 0.]\n"
          ]
        }
      ],
      "source": [
        "print(array_1)"
      ]
    },
    {
      "cell_type": "code",
      "execution_count": null,
      "id": "5d425d31",
      "metadata": {
        "id": "5d425d31",
        "outputId": "8d8de828-4dd5-4db4-80ba-6690218fe634"
      },
      "outputs": [
        {
          "name": "stdout",
          "output_type": "stream",
          "text": [
            "<class 'numpy.ndarray'>\n"
          ]
        }
      ],
      "source": [
        "print(type(array_1))"
      ]
    },
    {
      "cell_type": "code",
      "execution_count": null,
      "id": "ecf337ba",
      "metadata": {
        "id": "ecf337ba",
        "outputId": "2e5a65d1-0172-49a3-e17a-5e82bab124a2"
      },
      "outputs": [
        {
          "name": "stdout",
          "output_type": "stream",
          "text": [
            "<class 'numpy.float64'>\n"
          ]
        }
      ],
      "source": [
        "print(type(array_1[0]))"
      ]
    },
    {
      "cell_type": "code",
      "execution_count": null,
      "id": "73e60e70",
      "metadata": {
        "id": "73e60e70",
        "outputId": "6997f679-4d17-45ca-d37f-f400e0d64c5c"
      },
      "outputs": [
        {
          "name": "stdout",
          "output_type": "stream",
          "text": [
            "[0 0 0 0]\n"
          ]
        }
      ],
      "source": [
        "array_2 = np.zeros(4, dtype=int)\n",
        "print(array_2)"
      ]
    },
    {
      "cell_type": "code",
      "execution_count": null,
      "id": "1d112516",
      "metadata": {
        "id": "1d112516",
        "outputId": "a4d3e8ce-2af9-45c2-890b-b183398a423e"
      },
      "outputs": [
        {
          "name": "stdout",
          "output_type": "stream",
          "text": [
            "<class 'numpy.int32'>\n"
          ]
        }
      ],
      "source": [
        "print(type(array_2[0]))"
      ]
    },
    {
      "cell_type": "code",
      "execution_count": null,
      "id": "b3012c85",
      "metadata": {
        "id": "b3012c85"
      },
      "outputs": [],
      "source": [
        "array_3 = np.zeros([3,3])"
      ]
    },
    {
      "cell_type": "code",
      "execution_count": null,
      "id": "49f7fada",
      "metadata": {
        "id": "49f7fada",
        "outputId": "a5453f5c-0b17-43ea-95ff-bc7960a480ab"
      },
      "outputs": [
        {
          "name": "stdout",
          "output_type": "stream",
          "text": [
            "[[0. 0. 0.]\n",
            " [0. 0. 0.]\n",
            " [0. 0. 0.]]\n"
          ]
        }
      ],
      "source": [
        "print(array_3)"
      ]
    },
    {
      "cell_type": "markdown",
      "id": "19bae294",
      "metadata": {
        "id": "19bae294"
      },
      "source": [
        "# zeros_like()"
      ]
    },
    {
      "cell_type": "code",
      "execution_count": null,
      "id": "0ab97fd3",
      "metadata": {
        "id": "0ab97fd3",
        "outputId": "279714fa-0c7f-4e32-cd82-46b3fc540701"
      },
      "outputs": [
        {
          "name": "stdout",
          "output_type": "stream",
          "text": [
            "[0 0 0 0 0 0]\n"
          ]
        }
      ],
      "source": [
        "lista_1 = [2,3,4,3,2,5]\n",
        "array_4 = np.zeros_like(lista_1)\n",
        "print(array_4)"
      ]
    },
    {
      "cell_type": "code",
      "execution_count": null,
      "id": "5d252396",
      "metadata": {
        "id": "5d252396",
        "outputId": "e8de2215-7ff0-408b-9f42-2df4cb60b0c2"
      },
      "outputs": [
        {
          "name": "stdout",
          "output_type": "stream",
          "text": [
            "[[10, 3, 2], [3, 8, 5], [10, 11, 13]]\n"
          ]
        }
      ],
      "source": [
        "matriz = [[10, 3, 2],[3, 8, 5],[10,11,13]]\n",
        "print(matriz)"
      ]
    },
    {
      "cell_type": "code",
      "execution_count": null,
      "id": "efe2f007",
      "metadata": {
        "id": "efe2f007",
        "outputId": "a4875421-3c5d-45fa-8372-d62c5e4ead53"
      },
      "outputs": [
        {
          "name": "stdout",
          "output_type": "stream",
          "text": [
            "[[0 0 0]\n",
            " [0 0 0]\n",
            " [0 0 0]]\n"
          ]
        }
      ],
      "source": [
        "array_5 = np.zeros_like(matriz)\n",
        "print(array_5)"
      ]
    },
    {
      "cell_type": "code",
      "execution_count": null,
      "id": "b75e19a5",
      "metadata": {
        "id": "b75e19a5"
      },
      "outputs": [],
      "source": [
        ""
      ]
    }
  ],
  "metadata": {
    "kernelspec": {
      "display_name": "Python 3 (ipykernel)",
      "language": "python",
      "name": "python3"
    },
    "language_info": {
      "codemirror_mode": {
        "name": "ipython",
        "version": 3
      },
      "file_extension": ".py",
      "mimetype": "text/x-python",
      "name": "python",
      "nbconvert_exporter": "python",
      "pygments_lexer": "ipython3",
      "version": "3.9.7"
    },
    "colab": {
      "name": "NumPy 1 Arrays de Ceros.ipynb",
      "provenance": []
    }
  },
  "nbformat": 4,
  "nbformat_minor": 5
}