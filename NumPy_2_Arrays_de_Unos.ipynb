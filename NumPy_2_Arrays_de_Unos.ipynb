{
  "cells": [
    {
      "cell_type": "markdown",
      "source": [
        "### Código utilizado en el video:\n",
        "https://youtu.be/3lAdW03QQVQ"
      ],
      "metadata": {
        "id": "LAsQamjxHiVV"
      },
      "id": "LAsQamjxHiVV"
    },
    {
      "cell_type": "code",
      "execution_count": null,
      "id": "3e81a84a",
      "metadata": {
        "id": "3e81a84a"
      },
      "outputs": [],
      "source": [
        "import numpy as np"
      ]
    },
    {
      "cell_type": "markdown",
      "id": "8b74cdcc",
      "metadata": {
        "id": "8b74cdcc"
      },
      "source": [
        "# .ones()"
      ]
    },
    {
      "cell_type": "code",
      "execution_count": null,
      "id": "b264354d",
      "metadata": {
        "id": "b264354d"
      },
      "outputs": [],
      "source": [
        "array_1 = np.ones(8)"
      ]
    },
    {
      "cell_type": "code",
      "execution_count": null,
      "id": "ea5390f2",
      "metadata": {
        "id": "ea5390f2",
        "outputId": "ae621278-585f-4ef7-968b-694c3440c1dd"
      },
      "outputs": [
        {
          "name": "stdout",
          "output_type": "stream",
          "text": [
            "[1. 1. 1. 1. 1. 1. 1. 1.]\n"
          ]
        }
      ],
      "source": [
        "print(array_1)"
      ]
    },
    {
      "cell_type": "code",
      "execution_count": null,
      "id": "5d425d31",
      "metadata": {
        "id": "5d425d31",
        "outputId": "4a8e2125-fff2-4673-d5de-0f63ebe1d6ff"
      },
      "outputs": [
        {
          "name": "stdout",
          "output_type": "stream",
          "text": [
            "<class 'numpy.ndarray'>\n"
          ]
        }
      ],
      "source": [
        "print(type(array_1))"
      ]
    },
    {
      "cell_type": "code",
      "execution_count": null,
      "id": "ecf337ba",
      "metadata": {
        "id": "ecf337ba",
        "outputId": "e3e52621-8e5f-43a1-ed38-de79632a1a0c"
      },
      "outputs": [
        {
          "name": "stdout",
          "output_type": "stream",
          "text": [
            "<class 'numpy.float64'>\n"
          ]
        }
      ],
      "source": [
        "print(type(array_1[0]))"
      ]
    },
    {
      "cell_type": "code",
      "execution_count": null,
      "id": "73e60e70",
      "metadata": {
        "id": "73e60e70",
        "outputId": "11e5ffd1-e1ce-4751-f943-f682072549e8"
      },
      "outputs": [
        {
          "name": "stdout",
          "output_type": "stream",
          "text": [
            "[1 1 1 1]\n"
          ]
        }
      ],
      "source": [
        "array_2 = np.ones(4, dtype=int)\n",
        "print(array_2)"
      ]
    },
    {
      "cell_type": "code",
      "execution_count": null,
      "id": "1d112516",
      "metadata": {
        "id": "1d112516",
        "outputId": "d5276741-8064-4a88-b4c1-87f866a56df1"
      },
      "outputs": [
        {
          "name": "stdout",
          "output_type": "stream",
          "text": [
            "<class 'numpy.int32'>\n"
          ]
        }
      ],
      "source": [
        "print(type(array_2[0]))"
      ]
    },
    {
      "cell_type": "code",
      "execution_count": null,
      "id": "b3012c85",
      "metadata": {
        "id": "b3012c85"
      },
      "outputs": [],
      "source": [
        "array_3 = np.ones([3,3])"
      ]
    },
    {
      "cell_type": "code",
      "execution_count": null,
      "id": "49f7fada",
      "metadata": {
        "id": "49f7fada",
        "outputId": "866a639a-b409-4de2-ce8a-02d6b4019d6d"
      },
      "outputs": [
        {
          "name": "stdout",
          "output_type": "stream",
          "text": [
            "[[1. 1. 1.]\n",
            " [1. 1. 1.]\n",
            " [1. 1. 1.]]\n"
          ]
        }
      ],
      "source": [
        "print(array_3)"
      ]
    },
    {
      "cell_type": "markdown",
      "id": "19bae294",
      "metadata": {
        "id": "19bae294"
      },
      "source": [
        "# ones_like()"
      ]
    },
    {
      "cell_type": "code",
      "execution_count": null,
      "id": "0ab97fd3",
      "metadata": {
        "id": "0ab97fd3",
        "outputId": "1864bd43-7947-4497-da98-7dab8737effe"
      },
      "outputs": [
        {
          "name": "stdout",
          "output_type": "stream",
          "text": [
            "[1 1 1 1 1 1]\n"
          ]
        }
      ],
      "source": [
        "lista_1 = [2,3,4,3,2,5]\n",
        "array_4 = np.ones_like(lista_1)\n",
        "print(array_4)"
      ]
    },
    {
      "cell_type": "code",
      "execution_count": null,
      "id": "5d252396",
      "metadata": {
        "id": "5d252396",
        "outputId": "7f7ab1e2-cf8c-450e-9558-d9c085b63313"
      },
      "outputs": [
        {
          "name": "stdout",
          "output_type": "stream",
          "text": [
            "[[10, 3, 2], [3, 8, 5], [10, 11, 13]]\n"
          ]
        }
      ],
      "source": [
        "matriz = [[10, 3, 2],[3, 8, 5],[10,11,13]]\n",
        "print(matriz)"
      ]
    },
    {
      "cell_type": "code",
      "execution_count": null,
      "id": "efe2f007",
      "metadata": {
        "id": "efe2f007",
        "outputId": "25e0c0ee-2511-4ab7-d39c-d507c33e897d"
      },
      "outputs": [
        {
          "name": "stdout",
          "output_type": "stream",
          "text": [
            "[[1 1 1]\n",
            " [1 1 1]\n",
            " [1 1 1]]\n"
          ]
        }
      ],
      "source": [
        "array_5 = np.ones_like(matriz)\n",
        "print(array_5)"
      ]
    },
    {
      "cell_type": "code",
      "execution_count": null,
      "id": "b75e19a5",
      "metadata": {
        "id": "b75e19a5"
      },
      "outputs": [],
      "source": [
        ""
      ]
    }
  ],
  "metadata": {
    "kernelspec": {
      "display_name": "Python 3 (ipykernel)",
      "language": "python",
      "name": "python3"
    },
    "language_info": {
      "codemirror_mode": {
        "name": "ipython",
        "version": 3
      },
      "file_extension": ".py",
      "mimetype": "text/x-python",
      "name": "python",
      "nbconvert_exporter": "python",
      "pygments_lexer": "ipython3",
      "version": "3.9.7"
    },
    "colab": {
      "name": "NumPy 2 Arrays de Unos.ipynb",
      "provenance": []
    }
  },
  "nbformat": 4,
  "nbformat_minor": 5
}